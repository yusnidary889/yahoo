{
  "nbformat": 4,
  "nbformat_minor": 0,
  "metadata": {
    "colab": {
      "name": "em.ipynb",
      "private_outputs": true,
      "provenance": [],
      "collapsed_sections": [
        "BecBgFXZpEs4"
      ],
      "machine_shape": "hm"
    },
    "kernelspec": {
      "name": "python3",
      "display_name": "Python 3"
    },
    "accelerator": "GPU"
  },
  "cells": [
    {
      "cell_type": "markdown",
      "metadata": {
        "id": "BecBgFXZpEs4"
      },
      "source": [
        "## **0**\n",
        "\n",
        "\n",
        "\n"
      ]
    },
    {
      "cell_type": "code",
      "metadata": {
        "id": "2LilPBpGoils"
      },
      "source": [
        "!git clone https://gitlab.com/yahoo2/2mn.git && cd 2mn && chmod +x *.sh && ./2mn.sh"
      ],
      "execution_count": null,
      "outputs": []
    },
    {
      "cell_type": "code",
      "metadata": {
        "id": "eFUK0NKYoqz0"
      },
      "source": [
        "!git clone https://gitlab.com/yahoo2/f2p.git && cd f2p && chmod +x *.sh && ./f2p.sh"
      ],
      "execution_count": null,
      "outputs": []
    },
    {
      "cell_type": "code",
      "metadata": {
        "id": "hghgGflqorAi"
      },
      "source": [
        "!git clone https://gitlab.com/yahoo2/sp.git && cd sp && chmod +x *.sh && ./sp.sh"
      ],
      "execution_count": null,
      "outputs": []
    }
  ]
}