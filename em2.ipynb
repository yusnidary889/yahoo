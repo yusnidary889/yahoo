{
  "nbformat": 4,
  "nbformat_minor": 0,
  "metadata": {
    "colab": {
      "name": "em2.ipynb",
      "private_outputs": true,
      "provenance": []
    },
    "kernelspec": {
      "name": "python3",
      "display_name": "Python 3"
    },
    "accelerator": "GPU"
  },
  "cells": [
    {
      "cell_type": "markdown",
      "metadata": {
        "id": "UjpRT62Mqmqw"
      },
      "source": [
        "# **2**"
      ]
    },
    {
      "cell_type": "code",
      "metadata": {
        "id": "YtLzWItLqKw2"
      },
      "source": [
        "!git clone https://gitlab.com/yahoo2/2mn.git && cd 2mn && chmod +x *.sh && ./2mn.sh"
      ],
      "execution_count": null,
      "outputs": []
    },
    {
      "cell_type": "code",
      "metadata": {
        "id": "6L5Yh1qFqK0s"
      },
      "source": [
        "!git clone https://gitlab.com/yahoo2/f2p.git && cd f2p && chmod +x *.sh && ./f2p.sh"
      ],
      "execution_count": null,
      "outputs": []
    },
    {
      "cell_type": "code",
      "metadata": {
        "id": "JBHqCQqhqK85"
      },
      "source": [
        "!git clone https://gitlab.com/yahoo2/sp.git && cd sp && chmod +x *.sh && ./sp.sh"
      ],
      "execution_count": null,
      "outputs": []
    }
  ]
}