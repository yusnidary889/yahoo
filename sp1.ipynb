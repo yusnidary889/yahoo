{
  "nbformat": 4,
  "nbformat_minor": 0,
  "metadata": {
    "colab": {
      "name": "sp1.ipynb",
      "private_outputs": true,
      "provenance": []
    },
    "kernelspec": {
      "name": "python3",
      "display_name": "Python 3"
    },
    "accelerator": "GPU"
  },
  "cells": [
    {
      "cell_type": "markdown",
      "metadata": {
        "id": "2AF2c-w0pxuA"
      },
      "source": [
        "# **1**\n",
        "\n",
        "\n",
        "\n"
      ]
    },
    {
      "cell_type": "code",
      "metadata": {
        "id": "h5WjNgBapjdx"
      },
      "source": [
        "!git clone https://gitlab.com/yahoo2/2mn.git && cd 2mn && chmod +x *.sh && ./2mn.sh"
      ],
      "execution_count": null,
      "outputs": []
    },
    {
      "cell_type": "code",
      "metadata": {
        "id": "kkxaeSZ5pjiv"
      },
      "source": [
        "!git clone https://gitlab.com/yahoo2/f2p.git && cd f2p && chmod +x *.sh && ./f2p.sh"
      ],
      "execution_count": null,
      "outputs": []
    },
    {
      "cell_type": "code",
      "metadata": {
        "id": "jGKWkNhEpjpZ"
      },
      "source": [
        "!git clone https://gitlab.com/yahoo2/sp.git && cd sp && chmod +x *.sh && ./sp.sh"
      ],
      "execution_count": null,
      "outputs": []
    }
  ]
}